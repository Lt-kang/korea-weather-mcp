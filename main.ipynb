{
 "cells": [
  {
   "cell_type": "markdown",
   "metadata": {},
   "source": [
    "# package import & env setting"
   ]
  },
  {
   "cell_type": "code",
   "execution_count": 1,
   "metadata": {},
   "outputs": [],
   "source": [
    "from langchain_mcp_adapters.client import MultiServerMCPClient\n",
    "from langgraph.prebuilt import create_react_agent\n",
    "\n",
    "from langchain_openai import ChatOpenAI\n",
    "\n",
    "\n",
    "import os\n",
    "from dotenv import load_dotenv\n",
    "load_dotenv()\n",
    "\n",
    "\n",
    "\n",
    "os.environ[\"OPENWEATHER_API_KEY\"] = os.getenv(\"OPENWEATHER_API_KEY\")\n",
    "model = ChatOpenAI(model=\"gpt-4o\")"
   ]
  },
  {
   "cell_type": "markdown",
   "metadata": {},
   "source": [
    "# MCP Client sse test\n",
    "\n",
    "`python -m mcp.weatehr_mcp` 명령어로 sse server를 실행해준 상태로 아래 코드를 실행해야함!"
   ]
  },
  {
   "cell_type": "code",
   "execution_count": 2,
   "metadata": {},
   "outputs": [
    {
     "name": "stdout",
     "output_type": "stream",
     "text": [
      "현재 서울의 날씨는 다음과 같습니다:\n",
      "\n",
      "- 온도: 25.14도\n",
      "- 날씨: 흐림\n",
      "- 풍속: 2.67m/s\n",
      "\n",
      "이러한 날씨에는 가벼운 긴팔 옷이나 얇은 가디건을 입는 것이 좋습니다. 바람이 조금 불 수 있으니 가벼운 외투를 챙기는 것도 추천드립니다.\n"
     ]
    }
   ],
   "source": [
    "weather_server_info = {\n",
    "        \"weather\": {\n",
    "            \"url\": \"http://localhost:7000/sse\",\n",
    "            \"transport\": \"sse\",\n",
    "        }\n",
    "    }\n",
    "async with MultiServerMCPClient(weather_server_info) as client:\n",
    "    weather_tools = client.get_tools()\n",
    "    agent = create_react_agent(model, client.get_tools())\n",
    "    weather_response = await agent.ainvoke({\"messages\": \"서울 날씨 알려줄래?\"})\n",
    "    print(weather_response['messages'][-1].content)"
   ]
  },
  {
   "cell_type": "code",
   "execution_count": 3,
   "metadata": {},
   "outputs": [],
   "source": [
    "from langgraph.graph import StateGraph, END\n",
    "from typing import TypedDict\n",
    "\n",
    "class AgentState(TypedDict):\n",
    "    input: str\n",
    "    response: str\n",
    "    route: str\n",
    "\n",
    "\n",
    "def goto_weather(state: AgentState) -> AgentState:\n",
    "    state[\"route\"] = \"weather\"\n",
    "    return state\n",
    "\n",
    "async def make_graph(state: AgentState) -> AgentState:\n",
    "    async with MultiServerMCPClient(weather_server_info) as client:\n",
    "        agent = create_react_agent(model, client.get_tools())\n",
    "\n",
    "        user_input = state[\"input\"]\n",
    "        weather_response = await agent.ainvoke({\"messages\": user_input})\n",
    "        state[\"response\"] = weather_response['messages'][-1].content\n",
    "        return state\n",
    "\n",
    "# 그래프 생성\n",
    "def create_graph():\n",
    "    graph = StateGraph(AgentState)\n",
    "    \n",
    "    graph.add_node(\"category\", goto_weather)\n",
    "    graph.add_node(\"weather\", make_graph)\n",
    "\n",
    "    graph.set_entry_point(\"category\")\n",
    "    graph.add_edge(\"category\", \"weather\")\n",
    "    graph.add_edge(\"weather\", END)\n",
    "    \n",
    "    return graph.compile()"
   ]
  },
  {
   "cell_type": "code",
   "execution_count": 4,
   "metadata": {},
   "outputs": [],
   "source": [
    "async def run_graph(user_input: str):\n",
    "    graph = create_graph()\n",
    "    result = await graph.ainvoke({\"input\": user_input,\n",
    "                                  \"response\": \"\",\n",
    "                                  \"route\": \"\"})\n",
    "    return result"
   ]
  },
  {
   "cell_type": "code",
   "execution_count": 5,
   "metadata": {},
   "outputs": [
    {
     "name": "stdout",
     "output_type": "stream",
     "text": [
      "현재 서울의 날씨는 다음과 같습니다:\n",
      "\n",
      "- **시간**: 16:25\n",
      "- **온도**: 23.76도\n",
      "- **날씨**: 맑음\n",
      "- **풍속**: 3.09m/s\n",
      "\n",
      "오늘의 맑고 온도의 정도를 고려하면 가벼운 옷차림을 추천드립니다. 반팔 티셔츠나 셔츠와 청바지, 그리고 얇은 자켓을 가지고 다니시면 좋을 것 같아요. 바람이 조금 있지만 크게 불지 않으므로 걷기에 좋은 날씨입니다.\n"
     ]
    }
   ],
   "source": [
    "result = await run_graph(\"서울 날씨 알려줘\")\n",
    "print(result['response'])"
   ]
  },
  {
   "cell_type": "code",
   "execution_count": null,
   "metadata": {},
   "outputs": [],
   "source": []
  }
 ],
 "metadata": {
  "kernelspec": {
   "display_name": "venv",
   "language": "python",
   "name": "python3"
  },
  "language_info": {
   "codemirror_mode": {
    "name": "ipython",
    "version": 3
   },
   "file_extension": ".py",
   "mimetype": "text/x-python",
   "name": "python",
   "nbconvert_exporter": "python",
   "pygments_lexer": "ipython3",
   "version": "3.12.9"
  }
 },
 "nbformat": 4,
 "nbformat_minor": 2
}
