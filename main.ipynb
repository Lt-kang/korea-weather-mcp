{
 "cells": [
  {
   "cell_type": "markdown",
   "metadata": {},
   "source": [
    "# package import & env setting"
   ]
  },
  {
   "cell_type": "code",
   "execution_count": 1,
   "metadata": {},
   "outputs": [],
   "source": [
    "from langchain_mcp_adapters.client import MultiServerMCPClient\n",
    "from langgraph.prebuilt import create_react_agent\n",
    "\n",
    "from langchain_openai import ChatOpenAI\n",
    "\n",
    "\n",
    "import os\n",
    "from dotenv import load_dotenv\n",
    "load_dotenv()\n",
    "\n",
    "\n",
    "\n",
    "os.environ[\"OPENWEATHER_API_KEY\"] = os.getenv(\"OPENWEATHER_API_KEY\")\n",
    "model = ChatOpenAI(model=\"gpt-4o\")"
   ]
  },
  {
   "cell_type": "markdown",
   "metadata": {},
   "source": [
    "# MCP Client test"
   ]
  },
  {
   "cell_type": "code",
   "execution_count": null,
   "metadata": {},
   "outputs": [
    {
     "name": "stdout",
     "output_type": "stream",
     "text": [
      "서울의 현재 날씨는 다음과 같습니다:\n",
      "\n",
      "- **온도:** 10.76도\n",
      "- **날씨:** 맑음\n",
      "- **풍속:** 1.03m/s\n",
      "\n",
      "이런 날씨에는 약간 쌀쌀할 수 있으므로, 긴소매 옷이나 가벼운 자켓을 추천합니다. 바람이 약하게 불고 있으니, 외출 시 가벼운 방풍 외투를 갖고 나가시면 좋습니다.\n"
     ]
    }
   ],
   "source": [
    "weather_server_info = {\n",
    "        \"weather\": {\n",
    "            \"url\": \"http://localhost:7000/sse\",\n",
    "            \"transport\": \"sse\",\n",
    "        }\n",
    "    }\n",
    "async with MultiServerMCPClient(weather_server_info) as client:\n",
    "    weather_tools = client.get_tools()\n",
    "    agent = create_react_agent(model, client.get_tools())\n",
    "    weather_response = await agent.ainvoke({\"messages\": \"서울 날씨 알려줄래?\"})\n",
    "    print(weather_response['messages'][-1].content)"
   ]
  },
  {
   "cell_type": "code",
   "execution_count": 14,
   "metadata": {},
   "outputs": [],
   "source": [
    "from langgraph.graph import StateGraph, END\n",
    "from typing import TypedDict\n",
    "\n",
    "class AgentState(TypedDict):\n",
    "    input: str\n",
    "    response: str\n",
    "    route: str\n",
    "\n",
    "\n",
    "def goto_weather(state: AgentState) -> AgentState:\n",
    "    state[\"route\"] = \"weather\"\n",
    "    return state\n",
    "\n",
    "async def make_graph(state: AgentState) -> AgentState:\n",
    "    async with MultiServerMCPClient(weather_server_info) as client:\n",
    "        agent = create_react_agent(model, client.get_tools())\n",
    "\n",
    "        user_input = state[\"input\"]\n",
    "        weather_response = await agent.ainvoke({\"messages\": user_input})\n",
    "        state[\"response\"] = weather_response['messages'][-1].content\n",
    "        return state\n",
    "\n",
    "# 그래프 생성\n",
    "def create_graph():\n",
    "    graph = StateGraph(AgentState)\n",
    "    \n",
    "    graph.add_node(\"category\", goto_weather)\n",
    "    graph.add_node(\"weather\", make_graph)\n",
    "\n",
    "    graph.set_entry_point(\"category\")\n",
    "    graph.add_edge(\"category\", \"weather\")\n",
    "    graph.add_edge(\"weather\", END)\n",
    "    \n",
    "    return graph.compile()"
   ]
  },
  {
   "cell_type": "code",
   "execution_count": 15,
   "metadata": {},
   "outputs": [],
   "source": [
    "async def run_graph(user_input: str):\n",
    "    graph = create_graph()\n",
    "    result = await graph.ainvoke({\"input\": user_input,\n",
    "                                  \"response\": \"\",\n",
    "                                  \"route\": \"\"})\n",
    "    return result"
   ]
  },
  {
   "cell_type": "code",
   "execution_count": 18,
   "metadata": {},
   "outputs": [
    {
     "name": "stdout",
     "output_type": "stream",
     "text": [
      "서울의 현재 날씨는 맑음이며, 온도는 약 10.76도입니다. 바람은 약간 부는 편으로 풍속은 1.03m/s입니다. \n",
      "\n",
      "이런 날씨에는 다음과 같은 복장을 추천드립니다:\n",
      "- 얇은 니트나 긴 소매 옷과 함께 가벼운 자켓을 입으세요.\n",
      "- 바람을 막을 수 있는 얇은 스카프나 목도리를 준비하는 것도 좋습니다.\n",
      "- 편안한 운동화나 부츠를 신는 것이 좋습니다.\n",
      "\n",
      "이 복장 제안으로 하루를 보다 편안하게 보내세요!\n"
     ]
    }
   ],
   "source": [
    "result = await run_graph(\"서울 날씨 알려줘\")\n",
    "print(result['response'])"
   ]
  },
  {
   "cell_type": "code",
   "execution_count": null,
   "metadata": {},
   "outputs": [],
   "source": []
  }
 ],
 "metadata": {
  "kernelspec": {
   "display_name": "venv",
   "language": "python",
   "name": "python3"
  },
  "language_info": {
   "codemirror_mode": {
    "name": "ipython",
    "version": 3
   },
   "file_extension": ".py",
   "mimetype": "text/x-python",
   "name": "python",
   "nbconvert_exporter": "python",
   "pygments_lexer": "ipython3",
   "version": "3.11.5"
  }
 },
 "nbformat": 4,
 "nbformat_minor": 2
}
